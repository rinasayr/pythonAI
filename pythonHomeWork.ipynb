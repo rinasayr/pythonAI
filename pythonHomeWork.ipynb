{
 "cells": [
  {
   "cell_type": "code",
   "execution_count": 87,
   "metadata": {},
   "outputs": [],
   "source": [
    "import requests, json, urllib.parse\n",
    "base_url = 'https://itunes.apple.com/search'\n",
    "\n",
    "\n",
    "artist = 'Scriptonite'\n",
    "\n",
    "\n",
    "params = {\n",
    "    'term': artist,\n",
    "    'limit': 154,    \n",
    "    'media': 'music',\n",
    "    'entity': 'song',\n",
    "    'attribute': 'artistTerm'\n",
    "}\n",
    "\n",
    "response = requests.get(f\"{base_url}?{urllib.parse.urlencode(params)}\")\n",
    "\n",
    "data = json.loads(response.text)\n",
    "data = data['results']"
   ]
  },
  {
   "cell_type": "code",
   "execution_count": 88,
   "metadata": {},
   "outputs": [],
   "source": [
    "\n",
    "import dateutil.parser\n",
    "data = map(lambda x: {**x, 'releaseDate': dateutil.parser.isoparse(x['releaseDate'])}, data)\n",
    "data = list(data)"
   ]
  },
  {
   "cell_type": "code",
   "execution_count": 97,
   "metadata": {},
   "outputs": [
    {
     "name": "stdout",
     "output_type": "stream",
     "text": [
      "{'Rock', 'Hip-Hop/Rap', 'Alternative Rap', 'Pop'}\n"
     ]
    }
   ],
   "source": [
    "data = map(lambda x: {\n",
    "    'artistName': x['artistName'],\n",
    "    'kind' : x['kind'],\n",
    "    'artistId': x['artistId'],\n",
    "    'collectionId': x['collectionId'],\n",
    "    'trackId': x['trackId'],\n",
    "    'artistName': x['artistName'],\n",
    "    'collectionName': x['collectionName'],\n",
    "    'trackName': x['trackName'],\n",
    "    'collectionPrice': x['collectionPrice'],\n",
    "    'trackPrice': x['trackPrice'],\n",
    "    'releaseDate': x['releaseDate'],\n",
    "    'trackCount': x['trackCount'],\n",
    "    'trackNumber': x['trackNumber'],\n",
    "    'trackTimeMillis': x['trackTimeMillis'],\n",
    "    'country': x['country'],\n",
    "    'currency': x['currency'],\n",
    "    'primaryGenreName': x['primaryGenreName']\n",
    "}, data)\n",
    "data = list(data)\n",
    "print(set(map(lambda x: x['primaryGenreName'], data)))"
   ]
  },
  {
   "cell_type": "code",
   "execution_count": 90,
   "metadata": {},
   "outputs": [],
   "source": [
    "def convert_millis(millis: int) -> str:\n",
    "    total_seconds = millis // 1000\n",
    "    seconds = total_seconds % 60\n",
    "    minutes = (total_seconds // 60) % 60\n",
    "    hours = (total_seconds // (60 * 60))\n",
    "    return f\"{hours}:Hours,{minutes}:Minutes,{seconds}:Seconds\"\n",
    "\n",
    "def filter_list(items, value):\n",
    "    has_more = items.count(value) > 1\n",
    "    return [x for x in items if not (x == value and has_more)]\n"
   ]
  },
  {
   "cell_type": "code",
   "execution_count": 91,
   "metadata": {},
   "outputs": [],
   "source": [
    "import statistics\n",
    "countOfSongs = len(list(map(lambda x: x['trackName'], data)))\n",
    "dataGenre = (list((map(lambda x: x['primaryGenreName'], data))))\n",
    "dataAlbums = len(list(set(map(lambda x: x['collectionId'], data))))\n",
    "songsDuration = sum(list(map(lambda x : x['trackTimeMillis'],data)))\n",
    "Average_time = statistics.mean(list(map(lambda x : x['trackTimeMillis'],data)))\n",
    "median_time = list(map(lambda x : x['trackTimeMillis'],data))\n",
    "median_time.sort()\n",
    "median_time = statistics.median(median_time)\n",
    "songsCost = sum(filter_list(list(map(lambda x: x['trackPrice'], data)),-1))\n",
    "Average_cost = statistics.mean(filter_list(list(map(lambda x: x['trackPrice'], data)),-1))\n",
    "median_cost = filter_list(list(map(lambda x: x['trackPrice'], data)),-1)\n",
    "median_cost.sort()\n",
    "median_cost = statistics.median(median_cost)\n",
    "time_extractor = lambda x: x['trackTimeMillis']\n",
    "longest_song = max(data, key=time_extractor)\n",
    "shortest_song = min(data, key=time_extractor)\n",
    "\n",
    "track_price_extractor = lambda x: x['trackPrice']\n",
    "\n",
    "dearest_song = max(data, key=track_price_extractor)\n",
    "\n",
    "сheapest_song = min(data, key=track_price_extractor)"
   ]
  },
  {
   "cell_type": "code",
   "execution_count": 99,
   "metadata": {},
   "outputs": [
    {
     "name": "stdout",
     "output_type": "stream",
     "text": [
      "Artist: Scriptonite\n",
      "Count of songs: 154\n",
      "Most popular genre count: Hip-Hop/Rap - 134\n",
      "Count of albums: 55\n",
      "Songs Duration: 9:Hours,2:Minutes,42:Seconds\n",
      "Average time: 0.0:Hours,3.0:Minutes,31.0:Seconds\n",
      "Median duration songs: 0.0:Hours,3.0:Minutes,23.0:Seconds\n",
      "Longest song: Сука тащит нас на дно (feat. Юрик Четверг & Truwer) 0:Hours,6:Minutes,50:Seconds\n",
      "Shortest song: Siebatsya (Skit) 0:Hours,0:Minutes,43:Seconds\n",
      "Total cost of songs ≈  195 $\n",
      "Average cost: 1.2685714285714287 $\n",
      "Median cost songs: 1.29 $\n",
      "The most expensive song: Положение (Izzamuzzic Remix) Trackrpice: 1.29\n",
      "Сheapest song: Москва любит... Track price: 0.69\n"
     ]
    }
   ],
   "source": [
    "\n",
    "print('Artist:',artist)\n",
    "\n",
    "print('Count of songs:',countOfSongs)\n",
    "\n",
    "print('Most popular genre count:','Hip-Hop/Rap -',dataGenre.count('Hip-Hop/Rap'))\n",
    "\n",
    "print('Count of albums:',dataAlbums)\n",
    "\n",
    "print('Songs Duration:',convert_millis(songsDuration))\n",
    "\n",
    "print('Average time:',convert_millis(Average_time))\n",
    "\n",
    "print('Median duration songs:',convert_millis(median_time))\n",
    "\n",
    "print('Longest song:', longest_song['trackName'], convert_millis(longest_song['trackTimeMillis']))\n",
    "\n",
    "print('Shortest song:', shortest_song['trackName'], convert_millis(shortest_song['trackTimeMillis']))\n",
    "\n",
    "print('Total cost of songs ≈ ',round(songsCost),'$')\n",
    "\n",
    "print('Average cost:',Average_cost,'$')\n",
    "\n",
    "print('Median cost songs:',median_cost,'$')\n",
    "\n",
    "print('The most expensive song:', dearest_song['trackName'],'Trackrpice:',dearest_song['trackPrice'])\n",
    "\n",
    "if сheapest_song['trackPrice'] == -1 : \n",
    "    print('Сheapest song:', сheapest_song['trackName'],'Track price:','Free')\n",
    "else:\n",
    "    print('Сheapest song:', сheapest_song['trackName'],'Track price:',сheapest_song['trackPrice'])\n",
    "    \n"
   ]
  },
  {
   "cell_type": "code",
   "execution_count": 93,
   "metadata": {},
   "outputs": [
    {
     "name": "stdout",
     "output_type": "stream",
     "text": [
      "['5 здесь, 5 там - Single', 'Локоны - Single', 'VBVVCTND - Single', 'Не добро пожаловать - Single', 'Твой - Single', 'Стиль - Single', 'На реальных событиях', 'Лям - Single', 'Дом с нормальными явлениями', 'Притон - Single', 'Бисер (feat. ATL) - Single', 'Приглашение на фестиваль Gazgolder Live - Single', 'Витамин - Single', 'Ламбада - Single', 'Праздник на улице 36', 'НТРС - Single', 'Where Is Your Love? (feat. Major Lazer) - Single', 'Уроборос: Улица 36', 'Уроборос: Зеркала', 'Мультибрендовый (feat. 104, T-Fest & Niman) - Single', 'Billboard - Single', 'Замёрз - Single', 'Musica36: Как я провёл это лето - EP', '2004', '7182 - Single', 'PVL Is Back (feat. Niman) - Single', 'Лети - Single', 'Родился и вырос - Single', 'Что ты знаешь 2 - Single', 'Прямо здесь - Single', \"I Ain't Got Time (feat. Niman) - Single\", '21 - Single', 'Детки - Single', '2004 (Apple Music Film Edition)', 'Веселей - Single', 'В одного (feat. Truwer) - Single', 'Baby mama - Single', 'Gazgolder. К тебе', 'PVL is back - EP', 'Чистый (OST «Псих») - Single', 'Мама - Single', 'Свистки и бумажки', 'Сумка - Single', 'Не ври, не верю - EP', 'Положение (Izzamuzzic Remix) - Single', 'Будьте здоровы - Single', 'Ронин - Single', 'Тремор - Single', 'Цифры (feat. Rodionis) - Single', 'Плохие привычки', 'Мне по*уй - Single', 'Кейс - Single', 'Петербург - Single', 'THE GENETIC CODE', 'BLACK SLIDES & WHITE SOCKS']\n",
      "[(837847152, '5 здесь, 5 там - Single'), (837847153, 'Локоны - Single'), (837848992, 'VBVVCTND - Single'), (885031658, 'Не добро пожаловать - Single'), (916132539, 'Твой - Single'), (976097532, 'Стиль - Single'), (982257721, 'На реальных событиях'), (1052240280, 'Лям - Single'), (1059345902, 'Дом с нормальными явлениями'), (1059350795, 'Притон - Single'), (1091020552, 'Бисер (feat. ATL) - Single'), (1134919434, 'Приглашение на фестиваль Gazgolder Live - Single'), (1182953013, 'Витамин - Single'), (1212876929, 'Ламбада - Single'), (1240229704, 'Праздник на улице 36'), (1255096322, 'НТРС - Single'), (1280480465, 'Where Is Your Love? (feat. Major Lazer) - Single'), (1326103549, 'Уроборос: Улица 36'), (1326103799, 'Уроборос: Зеркала'), (1439302905, 'Мультибрендовый (feat. 104, T-Fest & Niman) - Single'), (1458340021, 'Billboard - Single'), (1470244856, 'Замёрз - Single'), (1476554338, 'Musica36: Как я провёл это лето - EP'), (1492679500, '2004'), (1501170694, '7182 - Single'), (1501211771, 'PVL Is Back (feat. Niman) - Single'), (1501390830, 'Лети - Single'), (1501390939, 'Родился и вырос - Single'), (1501390990, 'Что ты знаешь 2 - Single'), (1501391048, 'Прямо здесь - Single'), (1501510570, \"I Ain't Got Time (feat. Niman) - Single\"), (1501510632, '21 - Single'), (1501712501, 'Детки - Single'), (1509340151, '2004 (Apple Music Film Edition)'), (1518422242, 'Веселей - Single'), (1519470512, 'В одного (feat. Truwer) - Single'), (1521278133, 'Baby mama - Single'), (1530287962, 'Gazgolder. К тебе'), (1540093639, 'PVL is back - EP'), (1543706397, 'Чистый (OST «Псих») - Single'), (1557039532, 'Мама - Single'), (1560017421, 'Свистки и бумажки'), (1566185990, 'Сумка - Single'), (1567241202, 'Не ври, не верю - EP'), (1568740439, 'Положение (Izzamuzzic Remix) - Single'), (1569952230, 'Будьте здоровы - Single'), (1570822227, 'Ронин - Single'), (1571517946, 'Тремор - Single'), (1577618549, 'Цифры (feat. Rodionis) - Single'), (1578313915, 'Плохие привычки'), (1578871512, 'Мне по*уй - Single'), (1590829570, 'Кейс - Single'), (1592214697, 'Петербург - Single'), (1599593866, 'THE GENETIC CODE'), (1644878405, 'BLACK SLIDES & WHITE SOCKS')]\n"
     ]
    }
   ],
   "source": [
    "from itertools import groupby\n",
    "\n",
    "collection_id_extractor = lambda x: x['collectionId']\n",
    "\n",
    "sorted_by_album = sorted(data, key=collection_id_extractor)\n",
    "album_groups = {}\n",
    "album_names = {}\n",
    "\n",
    "for album_id, songs in groupby(sorted_by_album, key=collection_id_extractor):\n",
    "    songs = list(songs)\n",
    "    album_groups[album_id] = songs \n",
    "    album_names[album_id] = songs[0]['collectionName']\n",
    "\n",
    "del sorted_by_album\n",
    "\n",
    "print(list(album_names.values()))\n",
    "print(list(album_names.items()))"
   ]
  },
  {
   "cell_type": "code",
   "execution_count": 94,
   "metadata": {},
   "outputs": [],
   "source": [
    "from itertools import count\n",
    "import dateutil.parser\n",
    "\n",
    "album_name = album_names[1492679500]\n",
    "album_values= list(album_groups[1492679500])\n"
   ]
  },
  {
   "cell_type": "code",
   "execution_count": 95,
   "metadata": {},
   "outputs": [],
   "source": [
    "\n",
    "album_songs_count = len(list(set(map(lambda x: x['trackId'], album_values))))\n",
    "dataGenre_Album = (list((map(lambda x: x['primaryGenreName'], album_values))))\n",
    "songsDuration_Album = sum(list(map(lambda x : x['trackTimeMillis'],album_values)))\n",
    "Average_time_Album = statistics.mean(list(map(lambda x : x['trackTimeMillis'],album_values)))\n",
    "median_time_Album = list(map(lambda x : x['trackTimeMillis'],album_values))\n",
    "median_time_Album.sort()\n",
    "median_time_Album = statistics.median(median_time_Album)\n",
    "\n",
    "longest_song_Album = max(album_values, key=time_extractor)\n",
    "shortest_song_Album = min(album_values, key=time_extractor)\n",
    "dearest_song_Album = max(album_values, key=track_price_extractor)\n",
    "сheapest_song_Album = min(album_values, key=track_price_extractor)\n",
    "\n",
    "\n",
    "songsCost_Album = sum(filter_list(list(map(lambda x: x['trackPrice'], album_values)),-1))\n",
    "Average_cost_Album = statistics.mean(filter_list(list(map(lambda x: x['trackPrice'], album_values)),-1))\n",
    "median_cost_Album = filter_list(list(map(lambda x: x['trackPrice'], album_values)),-1)\n",
    "median_cost_Album.sort()\n",
    "median_cost_Album = statistics.median(median_cost_Album)"
   ]
  },
  {
   "cell_type": "code",
   "execution_count": 96,
   "metadata": {},
   "outputs": [
    {
     "name": "stdout",
     "output_type": "stream",
     "text": [
      "Album name: 2004\n",
      "Count of songs: 18\n",
      "Most popular genre count: Rock - 0\n",
      "Songs Duration: 0:Hours,53:Minutes,1:Seconds\n",
      "Average time: 0.0:Hours,2.0:Minutes,56.0:Seconds\n",
      "Median duration songs: 0.0:Hours,3.0:Minutes,5.0:Seconds\n",
      "Longest song: Vyhodnye 0:Hours,5:Minutes,39:Seconds\n",
      "Shortest song: Siebatsya (Skit) 0:Hours,0:Minutes,43:Seconds\n",
      "Total cost of songs ≈  23 $\n",
      "Average cost: 1.29 $\n",
      "Median cost songs: 1.29 $\n",
      "The most expensive song: Moskva lyubit... Trackrpice: 1.29\n",
      "Сheapest song: Moskva lyubit... Track price: 1.29\n"
     ]
    }
   ],
   "source": [
    "print('Album name:',album_name)\n",
    "\n",
    "print('Count of songs:',album_songs_count)\n",
    "\n",
    "print('Most popular genre count:','Rock -',dataGenre_Album.count('Rock'))\n",
    "\n",
    "print('Songs Duration:',convert_millis(songsDuration_Album))\n",
    "\n",
    "print('Average time:',convert_millis(Average_time_Album))\n",
    "\n",
    "print('Median duration songs:',convert_millis(median_time_Album))\n",
    "\n",
    "print('Longest song:', longest_song_Album['trackName'], convert_millis(longest_song_Album['trackTimeMillis']))\n",
    "\n",
    "print('Shortest song:', shortest_song_Album['trackName'], convert_millis(shortest_song_Album['trackTimeMillis']))\n",
    "\n",
    "print('Total cost of songs ≈ ',round(songsCost_Album),'$')\n",
    "\n",
    "print('Average cost:',Average_cost_Album,'$')\n",
    "\n",
    "print('Median cost songs:',median_cost_Album,'$')\n",
    "\n",
    "print('The most expensive song:', dearest_song_Album['trackName'],'Trackrpice:',dearest_song_Album['trackPrice'])\n",
    "\n",
    "if сheapest_song['trackPrice'] == -1 : \n",
    "    print('Сheapest song:', сheapest_song_Album['trackName'],'Track price:','Free')\n",
    "else:\n",
    "    print('Сheapest song:', сheapest_song_Album['trackName'],'Track price:',сheapest_song_Album['trackPrice'])"
   ]
  }
 ],
 "metadata": {
  "kernelspec": {
   "display_name": "Python 3.10.8 64-bit (microsoft store)",
   "language": "python",
   "name": "python3"
  },
  "language_info": {
   "codemirror_mode": {
    "name": "ipython",
    "version": 3
   },
   "file_extension": ".py",
   "mimetype": "text/x-python",
   "name": "python",
   "nbconvert_exporter": "python",
   "pygments_lexer": "ipython3",
   "version": "3.10.8"
  },
  "orig_nbformat": 4,
  "vscode": {
   "interpreter": {
    "hash": "1f5d35a149c38202697f9963d0e5598b880d200db9aed899093823bf590338e0"
   }
  }
 },
 "nbformat": 4,
 "nbformat_minor": 2
}
